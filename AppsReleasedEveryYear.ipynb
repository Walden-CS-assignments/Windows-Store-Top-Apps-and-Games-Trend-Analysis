{
 "cells": [
  {
   "cell_type": "code",
   "execution_count": 1,
   "id": "516f5ce0",
   "metadata": {},
   "outputs": [],
   "source": [
    "import datetime as dt\n",
    "\n",
    "import pandas as pd\n",
    "import numpy as np\n",
    "from matplotlib import pyplot as plt"
   ]
  },
  {
   "cell_type": "code",
   "execution_count": 2,
   "id": "a5971cc0",
   "metadata": {},
   "outputs": [],
   "source": [
    "df = pd.read_csv('windows_store.csv')\n",
    "pd.set_option('display.max_columns', 11)\n",
    "pd.set_option('display.max_rows', 3960)"
   ]
  },
  {
   "cell_type": "code",
   "execution_count": null,
   "id": "cd64768a",
   "metadata": {},
   "outputs": [],
   "source": [
    "df"
   ]
  },
  {
   "cell_type": "code",
   "execution_count": null,
   "id": "01bfb5f4",
   "metadata": {},
   "outputs": [],
   "source": [
    "df.dtypes"
   ]
  },
  {
   "cell_type": "code",
   "execution_count": null,
   "id": "9ded88ac",
   "metadata": {},
   "outputs": [],
   "source": [
    "df['Date of Release'].str.contains('2017')"
   ]
  },
  {
   "cell_type": "code",
   "execution_count": null,
   "id": "2c6b311a",
   "metadata": {},
   "outputs": [],
   "source": [
    "d_parser = lambda x: dt.datetime.strptime(x, '%d-%m-%Y')\n",
    "df = pd.read_csv('windows_store.csv', parse_dates=['Date of Release'], date_parser=d_parser)"
   ]
  },
  {
   "cell_type": "code",
   "execution_count": null,
   "id": "24220281",
   "metadata": {},
   "outputs": [],
   "source": [
    "dt.date.today()"
   ]
  },
  {
   "cell_type": "code",
   "execution_count": null,
   "id": "84ec0c79",
   "metadata": {},
   "outputs": [],
   "source": [
    "df['Date of Release'] = pd.to_datetime(df['Date of Release'])"
   ]
  },
  {
   "cell_type": "code",
   "execution_count": null,
   "id": "f1ff5a3e",
   "metadata": {},
   "outputs": [],
   "source": [
    "df"
   ]
  },
  {
   "cell_type": "code",
   "execution_count": null,
   "id": "800dc316",
   "metadata": {},
   "outputs": [],
   "source": [
    "df.dtypes"
   ]
  },
  {
   "cell_type": "code",
   "execution_count": null,
   "id": "ea8d801d",
   "metadata": {},
   "outputs": [],
   "source": [
    "filt = df['Date of Release'] == '2021'\n",
    "df.loc[filt].count()"
   ]
  },
  {
   "cell_type": "code",
   "execution_count": null,
   "id": "49fd3130",
   "metadata": {},
   "outputs": [],
   "source": [
    "df.set_index('Date of Release', inplace=True)"
   ]
  },
  {
   "cell_type": "code",
   "execution_count": null,
   "id": "a1295c71",
   "metadata": {},
   "outputs": [],
   "source": [
    "df"
   ]
  },
  {
   "cell_type": "code",
   "execution_count": null,
   "id": "d768d7b4",
   "metadata": {},
   "outputs": [],
   "source": [
    "df.loc['2019'].count()"
   ]
  },
  {
   "cell_type": "code",
   "execution_count": null,
   "id": "2d1d1eeb",
   "metadata": {},
   "outputs": [],
   "source": [
    "year_grp = df.groupby(df.index.year)"
   ]
  },
  {
   "cell_type": "code",
   "execution_count": null,
   "id": "98bfb6c5",
   "metadata": {},
   "outputs": [],
   "source": [
    "year_grp['Name'].count()"
   ]
  },
  {
   "cell_type": "markdown",
   "id": "c342e487",
   "metadata": {},
   "source": [
    "# 另一种方法"
   ]
  },
  {
   "cell_type": "code",
   "execution_count": 3,
   "id": "a7b762b7",
   "metadata": {},
   "outputs": [],
   "source": [
    "df[['Day','Month', 'Year']] = df['Date of Release'].str.split('-', expand=True)"
   ]
  },
  {
   "cell_type": "code",
   "execution_count": null,
   "id": "4fec1516",
   "metadata": {},
   "outputs": [],
   "source": [
    "df"
   ]
  },
  {
   "cell_type": "code",
   "execution_count": 4,
   "id": "c2f79cd5",
   "metadata": {
    "scrolled": true
   },
   "outputs": [
    {
     "data": {
      "text/plain": [
       "2021    898\n",
       "2020    745\n",
       "2019    657\n",
       "2018    482\n",
       "2017    373\n",
       "2016    279\n",
       "2015    180\n",
       "2014    153\n",
       "2013    100\n",
       "2012     77\n",
       "2011      7\n",
       "2010      3\n",
       "Name: Year, dtype: int64"
      ]
     },
     "execution_count": 4,
     "metadata": {},
     "output_type": "execute_result"
    }
   ],
   "source": [
    "df['Year'].value_counts()"
   ]
  },
  {
   "cell_type": "code",
   "execution_count": 5,
   "id": "37b0a005",
   "metadata": {},
   "outputs": [],
   "source": [
    "year = df['Year'].value_counts().index\n",
    "year = year.tolist()"
   ]
  },
  {
   "cell_type": "code",
   "execution_count": 6,
   "id": "be960fdf",
   "metadata": {},
   "outputs": [],
   "source": [
    "yearNum = df['Year'].value_counts()\n",
    "yearNum = yearNum.tolist()"
   ]
  },
  {
   "cell_type": "code",
   "execution_count": 7,
   "id": "973a32da",
   "metadata": {},
   "outputs": [
    {
     "data": {
      "image/png": "[encoded data removed]",
      "text/plain": [
       "<Figure size 432x288 with 1 Axes>"
      ]
     },
     "metadata": {
      "needs_background": "light"
     },
     "output_type": "display_data"
    }
   ],
   "source": [
    "year.reverse()\n",
    "yearNum.reverse()\n",
    "\n",
    "plt.bar(year, yearNum)\n",
    "\n",
    "plt.title('Number of Apps Released Per Year')\n",
    "\n",
    "plt.xlabel('Year')\n",
    "\n",
    "plt.ylabel('Number of Apps Released')\n",
    "\n",
    "plt.tight_layout()\n",
    "\n",
    "plt.savefig('AppsReleasedperYear.png')\n",
    "\n",
    "plt.show()"
   ]
  },
  {
   "cell_type": "code",
   "execution_count": null,
   "id": "907c77c4",
   "metadata": {},
   "outputs": [],
   "source": []
  }
 ],
 "metadata": {
  "kernelspec": {
   "display_name": "Python 3",
   "language": "python",
   "name": "python3"
  },
  "language_info": {
   "codemirror_mode": {
    "name": "ipython",
    "version": 3
   },
   "file_extension": ".py",
   "mimetype": "text/x-python",
   "name": "python",
   "nbconvert_exporter": "python",
   "pygments_lexer": "ipython3",
   "version": "3.8.8"
  }
 },
 "nbformat": 4,
 "nbformat_minor": 5
}
